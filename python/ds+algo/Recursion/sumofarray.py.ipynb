{
 "cells": [
  {
   "cell_type": "markdown",
   "metadata": {},
   "source": [
    "find the sum of array of size n and return sum off all element n<=10^3\n"
   ]
  },
  {
   "cell_type": "code",
   "execution_count": 1,
   "metadata": {},
   "outputs": [],
   "source": [
    "def sumOfArray(a):\n",
    "    l=len(a)\n",
    "    if l==0:\n",
    "        return 0\n",
    "    smallist=a[1:]\n",
    "    smallsum=sumOfArray(smallist)\n",
    "    output=a[0]+smallsum\n",
    "    return output"
   ]
  },
  {
   "cell_type": "code",
   "execution_count": 3,
   "metadata": {},
   "outputs": [
    {
     "name": "stdout",
     "output_type": "stream",
     "text": [
      "5\n",
      "2 2 5 1 4\n",
      "14\n"
     ]
    }
   ],
   "source": [
    "import sys\n",
    "sys.setrecursionlimit(11000)\n",
    "n=int(input())\n",
    "a=list(int(i) for i in input().strip().split(' '))\n",
    "print(sumOfArray(a))"
   ]
  },
  {
   "cell_type": "markdown",
   "metadata": {},
   "source": [
    "# same as above wasted of memory\n"
   ]
  },
  {
   "cell_type": "code",
   "execution_count": 4,
   "metadata": {},
   "outputs": [],
   "source": [
    "def sumOfArrayB(a,si):\n",
    "    l=len(a)\n",
    "    if si==l or si==0:\n",
    "        return 0\n",
    "    smallout=sumOfArrayB(a,si+1)\n",
    "    output=a[si]+smallout\n",
    "    return output"
   ]
  },
  {
   "cell_type": "code",
   "execution_count": 5,
   "metadata": {},
   "outputs": [
    {
     "name": "stdout",
     "output_type": "stream",
     "text": [
      "5\n",
      "2 1 1 1 1\n",
      "6\n"
     ]
    }
   ],
   "source": [
    "import sys\n",
    "sys.setrecursionlimit(11000)\n",
    "n=int(input())\n",
    "a=list(int(i) for i in input().strip().split(' '))\n",
    "print(sumOfArray(a))"
   ]
  }
 ],
 "metadata": {
  "kernelspec": {
   "display_name": "Python 3",
   "language": "python",
   "name": "python3"
  },
  "language_info": {
   "codemirror_mode": {
    "name": "ipython",
    "version": 3
   },
   "file_extension": ".py",
   "mimetype": "text/x-python",
   "name": "python",
   "nbconvert_exporter": "python",
   "pygments_lexer": "ipython3",
   "version": "3.7.4"
  }
 },
 "nbformat": 4,
 "nbformat_minor": 2
}
