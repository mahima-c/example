{
 "cells": [
  {
   "cell_type": "code",
   "execution_count": 3,
   "metadata": {},
   "outputs": [],
   "source": [
    "def towerOfHanoi(n,a,b,c):\n",
    "    if n==1:\n",
    "        print(\"move 1st disk from\",a,\"to\",c)\n",
    "        return\n",
    "    towerOfHanoi(n-1,a,c,b)\n",
    "    print(\"move\", n,\"th disk from \",a,\"to\",c)\n",
    "    towerOfHanoi(n-1,b,a,c)"
   ]
  },
  {
   "cell_type": "code",
   "execution_count": 7,
   "metadata": {},
   "outputs": [
    {
     "name": "stdout",
     "output_type": "stream",
     "text": [
      "move 1st disk from s to d\n",
      "move 2 th disk from  s to h\n",
      "move 1st disk from d to h\n",
      "move 3 th disk from  s to d\n",
      "move 1st disk from h to s\n",
      "move 2 th disk from  h to d\n",
      "move 1st disk from s to d\n"
     ]
    }
   ],
   "source": [
    "towerOfHanoi(3,\"s\",\"h\",\"d\")"
   ]
  }
 ],
 "metadata": {
  "kernelspec": {
   "display_name": "Python 3",
   "language": "python",
   "name": "python3"
  },
  "language_info": {
   "codemirror_mode": {
    "name": "ipython",
    "version": 3
   },
   "file_extension": ".py",
   "mimetype": "text/x-python",
   "name": "python",
   "nbconvert_exporter": "python",
   "pygments_lexer": "ipython3",
   "version": "3.7.4"
  }
 },
 "nbformat": 4,
 "nbformat_minor": 2
}
