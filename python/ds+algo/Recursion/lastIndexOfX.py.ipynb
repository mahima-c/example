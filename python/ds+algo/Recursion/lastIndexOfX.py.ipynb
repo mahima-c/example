{
 "cells": [
  {
   "cell_type": "code",
   "execution_count": 9,
   "metadata": {},
   "outputs": [],
   "source": [
    "def lastIndexOfX(a,x):\n",
    "    if len(a)==0:\n",
    "        return -1\n",
    "    smallList=a[1:]\n",
    "    smallOutput=lastIndexOfX(smallList,x)\n",
    "    if smallOutput != -1:\n",
    "        return smallOutput+1\n",
    "    else:\n",
    "        if a[0]==x:\n",
    "            return 0\n",
    "        else:\n",
    "            return -1"
   ]
  },
  {
   "cell_type": "code",
   "execution_count": 10,
   "metadata": {},
   "outputs": [],
   "source": [
    "def lastIndexOfXB(a,si,x):\n",
    "    if si==len(a):\n",
    "        return -1\n",
    "    smallOutput=lastIndexOfXB(a,si+1,x)\n",
    "    if smallOutput!=-1:\n",
    "        return smallOutput\n",
    "    if a[si]==x:\n",
    "        return si\n",
    "    return -1"
   ]
  },
  {
   "cell_type": "code",
   "execution_count": 16,
   "metadata": {},
   "outputs": [
    {
     "data": {
      "text/plain": [
       "-1"
      ]
     },
     "execution_count": 16,
     "metadata": {},
     "output_type": "execute_result"
    }
   ],
   "source": [
    "a=[]\n",
    "lastIndexOfX(a,2)\n",
    "lastIndexOfXB(a,0,2)"
   ]
  }
 ],
 "metadata": {
  "kernelspec": {
   "display_name": "Python 3",
   "language": "python",
   "name": "python3"
  },
  "language_info": {
   "codemirror_mode": {
    "name": "ipython",
    "version": 3
   },
   "file_extension": ".py",
   "mimetype": "text/x-python",
   "name": "python",
   "nbconvert_exporter": "python",
   "pygments_lexer": "ipython3",
   "version": "3.7.4"
  }
 },
 "nbformat": 4,
 "nbformat_minor": 2
}
