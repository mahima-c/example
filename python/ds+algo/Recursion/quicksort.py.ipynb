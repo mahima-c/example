{
 "cells": [
  {
   "cell_type": "markdown",
   "metadata": {},
   "source": [
    "# quick sort is much faster and here not need of any extra space all thing are doing in same array"
   ]
  },
  {
   "cell_type": "code",
   "execution_count": 28,
   "metadata": {},
   "outputs": [],
   "source": [
    "def partition(a,si,ei):\n",
    "    pivot=a[si]\n",
    "    c=0\n",
    "    for i in range(si,ei+1):\n",
    "        if pivot>a[i]:\n",
    "            c=c+1\n",
    "        a[si],a[si+c]=a[si+c],a[si]\n",
    "        pivot_index=si+c\n",
    "        i=si\n",
    "        j=ei\n",
    "        while i<j:\n",
    "            if a[i]<pivot:\n",
    "                i=i+1\n",
    "            elif a[j]>=pivot:\n",
    "                j=j-1\n",
    "            else:\n",
    "                a[i],a[j]=a[j],a[i]\n",
    "                i=i+1\n",
    "                j=j-1\n",
    "    return pivot_index\n",
    "            "
   ]
  },
  {
   "cell_type": "code",
   "execution_count": 29,
   "metadata": {},
   "outputs": [
    {
     "data": {
      "text/plain": [
       "2"
      ]
     },
     "execution_count": 29,
     "metadata": {},
     "output_type": "execute_result"
    }
   ],
   "source": [
    "a=[9,5,7,9,9,8]\n",
    "partition(a,0,5)"
   ]
  },
  {
   "cell_type": "code",
   "execution_count": 34,
   "metadata": {},
   "outputs": [],
   "source": [
    "def quickSort(a,si,ei):\n",
    "    if si>=ei:\n",
    "        return \n",
    "    index=partition(a,si,ei)\n",
    "    quickSort(a,si,index-1)\n",
    "    quickSort(a,index+1,ei)\n",
    "    "
   ]
  },
  {
   "cell_type": "code",
   "execution_count": 35,
   "metadata": {},
   "outputs": [
    {
     "data": {
      "text/plain": [
       "[5, 8, 7, 9, 9, 9]"
      ]
     },
     "execution_count": 35,
     "metadata": {},
     "output_type": "execute_result"
    }
   ],
   "source": [
    "a=[9,5,7,9,9,8]\n",
    "quickSort(a,0,5)\n",
    "a"
   ]
  }
 ],
 "metadata": {
  "kernelspec": {
   "display_name": "Python 3",
   "language": "python",
   "name": "python3"
  },
  "language_info": {
   "codemirror_mode": {
    "name": "ipython",
    "version": 3
   },
   "file_extension": ".py",
   "mimetype": "text/x-python",
   "name": "python",
   "nbconvert_exporter": "python",
   "pygments_lexer": "ipython3",
   "version": "3.7.4"
  }
 },
 "nbformat": 4,
 "nbformat_minor": 2
}
