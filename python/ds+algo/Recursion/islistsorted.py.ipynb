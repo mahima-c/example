{
 "cells": [
  {
   "cell_type": "markdown",
   "metadata": {},
   "source": [
    "find list is sorted or not,here two way to solve by recursion first that :\n",
    "first we check first index is greather than or not if grather than than return false and then call  for small input\n",
    "second:\n",
    "first call for small input then compare but here is wasted if time because if a[0]>a[1] then don't need to check after \n"
   ]
  },
  {
   "cell_type": "code",
   "execution_count": 2,
   "metadata": {},
   "outputs": [],
   "source": [
    "def isSortedList(arr):\n",
    "    l=len(arr)\n",
    "    if l==0 or l==1:\n",
    "        return True\n",
    "    if arr[0]>arr[1]:\n",
    "        return False\n",
    "    smalllist=arr[1:]\n",
    "    smallsortedoutput=isSortedList(smalllist)\n",
    "    return smallsortedoutput"
   ]
  },
  {
   "cell_type": "code",
   "execution_count": 4,
   "metadata": {},
   "outputs": [
    {
     "data": {
      "text/plain": [
       "False"
      ]
     },
     "execution_count": 4,
     "metadata": {},
     "output_type": "execute_result"
    }
   ],
   "source": [
    "arr=[2,3,4,5,6,2]\n",
    "isSortedList(arr)"
   ]
  },
  {
   "cell_type": "markdown",
   "metadata": {},
   "source": [
    "this is not good way because every time we create a new list there was wasted of space so this is not efficient"
   ]
  },
  {
   "cell_type": "code",
   "execution_count": 5,
   "metadata": {},
   "outputs": [],
   "source": [
    "def isSortedListB(arr,si):\n",
    "    l=len(arr)\n",
    "    if si==l-1 or si==l:\n",
    "        return True\n",
    "    if arr[si]>arr[si+1]:\n",
    "        return False\n",
    "    return isSortedListB(arr,si+1)"
   ]
  },
  {
   "cell_type": "code",
   "execution_count": 9,
   "metadata": {},
   "outputs": [
    {
     "data": {
      "text/plain": [
       "True"
      ]
     },
     "execution_count": 9,
     "metadata": {},
     "output_type": "execute_result"
    }
   ],
   "source": [
    "arr=[2,2,2,2,2,2]\n",
    "isSortedListB(arr,0)"
   ]
  }
 ],
 "metadata": {
  "kernelspec": {
   "display_name": "Python 3",
   "language": "python",
   "name": "python3"
  },
  "language_info": {
   "codemirror_mode": {
    "name": "ipython",
    "version": 3
   },
   "file_extension": ".py",
   "mimetype": "text/x-python",
   "name": "python",
   "nbconvert_exporter": "python",
   "pygments_lexer": "ipython3",
   "version": "3.7.4"
  }
 },
 "nbformat": 4,
 "nbformat_minor": 2
}
