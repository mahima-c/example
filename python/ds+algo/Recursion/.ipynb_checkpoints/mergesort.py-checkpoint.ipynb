{
 "cells": [
  {
   "cell_type": "markdown",
   "metadata": {},
   "source": [
    "# merge sort using recursion very fast algorithm"
   ]
  },
  {
   "cell_type": "code",
   "execution_count": 25,
   "metadata": {},
   "outputs": [],
   "source": [
    "def merge(l1,l2,a):\n",
    "    i=0\n",
    "    j=0\n",
    "    k=0\n",
    "    while i<len(l1) and j<len(l2):\n",
    "        if l1[i]<l2[j]:\n",
    "            a[k]=l1[i]\n",
    "            k=k+1\n",
    "            i=i+1\n",
    "        else:\n",
    "            a[k]=l2[j]\n",
    "            j=j+1\n",
    "            k=k+1\n",
    "    while i<len(l1):\n",
    "        a[k]=l1[i]\n",
    "        i=i+1\n",
    "        k=k+1\n",
    "    while j<len(l2):\n",
    "        a[k]=l2[j]\n",
    "        j=j+1\n",
    "        k=k+1\n",
    "            \n",
    "    "
   ]
  },
  {
   "cell_type": "code",
   "execution_count": 29,
   "metadata": {},
   "outputs": [],
   "source": [
    "def mergeSort(a):  \n",
    "    if len(a)==0 or len(a)==1:\n",
    "        return\n",
    "    mid=len(a)//2\n",
    "    l1=a[ :mid-1]\n",
    "    l2=a[mid: ]\n",
    "    mergeSort(l1)\n",
    "    mergeSort(l2)\n",
    "    merge(l1,l2,a)"
   ]
  },
  {
   "cell_type": "code",
   "execution_count": 28,
   "metadata": {},
   "outputs": [
    {
     "data": {
      "text/plain": [
       "[3, 3, 5, 8, 8, 8, 8]"
      ]
     },
     "execution_count": 28,
     "metadata": {},
     "output_type": "execute_result"
    }
   ],
   "source": [
    "a1=[1,5,9,9]\n",
    "a2=[3,5,8]\n",
    "a=[1,9,5,7,9,9,8]\n",
    "mergeSort(a)\n",
    "a\n",
    "\n",
    "\n"
   ]
  }
 ],
 "metadata": {
  "kernelspec": {
   "display_name": "Python 3",
   "language": "python",
   "name": "python3"
  },
  "language_info": {
   "codemirror_mode": {
    "name": "ipython",
    "version": 3
   },
   "file_extension": ".py",
   "mimetype": "text/x-python",
   "name": "python",
   "nbconvert_exporter": "python",
   "pygments_lexer": "ipython3",
   "version": "3.7.4"
  }
 },
 "nbformat": 4,
 "nbformat_minor": 2
}
